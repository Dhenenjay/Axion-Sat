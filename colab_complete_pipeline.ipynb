{
 "cells": [
  {
   "cell_type": "markdown",
   "metadata": {},
   "source": [
    "# Axion-Sat Complete Pipeline (Colab)\n",
    "\n",
    "This notebook:\n",
    "1. Downloads BigEarthNet v2.0 data directly to Colab\n",
    "2. Converts to paired tiles (same as your local process)\n",
    "3. Runs Stage 1 precompute\n",
    "4. Saves outputs to Google Drive\n",
    "\n",
    "**Total time:** ~20-25 hours (download ~2h + convert ~3h + precompute ~15h)"
   ]
  },
  {
   "cell_type": "markdown",
   "metadata": {},
   "source": [
    "## 1. Setup Environment"
   ]
  },
  {
   "cell_type": "code",
   "execution_count": null,
   "metadata": {},
   "outputs": [],
   "source": [
    "# Mount Google Drive (for saving outputs)\n",
    "from google.colab import drive\n",
    "drive.mount('/content/drive')"
   ]
  },
  {
   "cell_type": "code",
   "execution_count": null,
   "metadata": {},
   "outputs": [],
   "source": [
    "# Check GPU\n",
    "!nvidia-smi"
   ]
  },
  {
   "cell_type": "code",
   "execution_count": null,
   "metadata": {},
   "outputs": [],
   "source": [
    "# Clone your repository\n",
    "!git clone https://github.com/YOUR_USERNAME/Axion-Sat.git /content/Axion-Sat\n",
    "%cd /content/Axion-Sat"
   ]
  },
  {
   "cell_type": "code",
   "execution_count": null,
   "metadata": {},
   "outputs": [],
   "source": [
    "# Install dependencies\n",
    "!pip install -q torch torchvision torchaudio --index-url https://download.pytorch.org/whl/cu118\n",
    "!pip install -q terratorch albumentations tqdm numpy pillow scipy timm transformers diffusers rasterio"
   ]
  },
  {
   "cell_type": "markdown",
   "metadata": {},
   "source": [
    "## 2. Download BigEarthNet v2.0 Data\n",
    "\n",
    "Downloads directly to Colab (fast!)"
   ]
  },
  {
   "cell_type": "code",
   "execution_count": null,
   "metadata": {},
   "outputs": [],
   "source": [
    "# Create data directories\n",
    "!mkdir -p /content/data/raw\n",
    "!mkdir -p /content/data/tiles"
   ]
  },
  {
   "cell_type": "code",
   "execution_count": null,
   "metadata": {},
   "outputs": [],
   "source": [
    "# Download Sentinel-1 data\n",
    "print(\"Downloading Sentinel-1 data...\")\n",
    "!wget -O /content/data/raw/BigEarthNet-S1-v2.0.tar.gz \\\n",
    "  \"https://bigearth.net/downloads/BigEarthNet-S1-v2.0.tar.gz\"\n",
    "\n",
    "print(\"\\nExtracting Sentinel-1...\")\n",
    "!tar -xzf /content/data/raw/BigEarthNet-S1-v2.0.tar.gz -C /content/data/raw/\n",
    "!rm /content/data/raw/BigEarthNet-S1-v2.0.tar.gz"
   ]
  },
  {
   "cell_type": "code",
   "execution_count": null,
   "metadata": {},
   "outputs": [],
   "source": [
    "# Download Sentinel-2 data\n",
    "print(\"Downloading Sentinel-2 data...\")\n",
    "!wget -O /content/data/raw/BigEarthNet-S2-v2.0.tar.gz \\\n",
    "  \"https://bigearth.net/downloads/BigEarthNet-S2-v2.0.tar.gz\"\n",
    "\n",
    "print(\"\\nExtracting Sentinel-2...\")\n",
    "!tar -xzf /content/data/raw/BigEarthNet-S2-v2.0.tar.gz -C /content/data/raw/\n",
    "!rm /content/data/raw/BigEarthNet-S2-v2.0.tar.gz"
   ]
  },
  {
   "cell_type": "code",
   "execution_count": null,
   "metadata": {},
   "outputs": [],
   "source": [
    "# Verify downloads\n",
    "!ls -lh /content/data/raw/"
   ]
  },
  {
   "cell_type": "markdown",
   "metadata": {},
   "source": [
    "## 3. Convert to Paired Tiles\n",
    "\n",
    "Same process as local - creates the benv2_catalog tiles"
   ]
  },
  {
   "cell_type": "code",
   "execution_count": null,
   "metadata": {},
   "outputs": [],
   "source": [
    "# Run tile conversion (same as your local build_tiles.py)\n",
    "!python scripts/build_tiles.py \\\n",
    "  --s1-dir /content/data/raw/BigEarthNet-S1-v2.0 \\\n",
    "  --s2-dir /content/data/raw/BigEarthNet-S2-v2.0 \\\n",
    "  --output-dir /content/data/tiles/benv2_catalog \\\n",
    "  --num-workers 4"
   ]
  },
  {
   "cell_type": "code",
   "execution_count": null,
   "metadata": {},
   "outputs": [],
   "source": [
    "# Check how many tiles were created\n",
    "import os\n",
    "tiles = [f for f in os.listdir('/content/data/tiles/benv2_catalog') if f.endswith('.npz')]\n",
    "print(f\"✓ Created {len(tiles)} paired tiles\")"
   ]
  },
  {
   "cell_type": "markdown",
   "metadata": {},
   "source": [
    "## 4. Run Stage 1 Precompute\n",
    "\n",
    "Now run the precompute with optimal settings for T4 GPU"
   ]
  },
  {
   "cell_type": "code",
   "execution_count": null,
   "metadata": {},
   "outputs": [],
   "source": [
    "# Create output directory in Google Drive\n",
    "!mkdir -p /content/drive/MyDrive/Axion-Sat-Outputs/stage1_precompute"
   ]
  },
  {
   "cell_type": "code",
   "execution_count": null,
   "metadata": {},
   "outputs": [],
   "source": [
    "# Run Stage 1 precompute\n",
    "!python scripts/00_precompute_stage1_fast.py \\\n",
    "  --data-dir /content/data/tiles/benv2_catalog \\\n",
    "  --output-dir /content/drive/MyDrive/Axion-Sat-Outputs/stage1_precompute \\\n",
    "  --batch-size 64 \\\n",
    "  --timesteps 3 \\\n",
    "  --device cuda"
   ]
  },
  {
   "cell_type": "markdown",
   "metadata": {},
   "source": [
    "## 5. Verify Outputs"
   ]
  },
  {
   "cell_type": "code",
   "execution_count": null,
   "metadata": {},
   "outputs": [],
   "source": [
    "# Check outputs\n",
    "output_dir = '/content/drive/MyDrive/Axion-Sat-Outputs/stage1_precompute'\n",
    "outputs = [f for f in os.listdir(output_dir) if f.endswith('.npz')]\n",
    "\n",
    "print(f\"\\n{'='*80}\")\n",
    "print(f\"✓ Stage 1 Precompute Complete!\")\n",
    "print(f\"{'='*80}\")\n",
    "print(f\"Generated: {len(outputs)} output files\")\n",
    "print(f\"Location:  {output_dir}\")\n",
    "print(f\"\\nFirst 5 outputs:\")\n",
    "for f in outputs[:5]:\n",
    "    print(f\"  - {f}\")"
   ]
  },
  {
   "cell_type": "markdown",
   "metadata": {},
   "source": [
    "## 6. Clean Up (Optional)\n",
    "\n",
    "Free up space by removing raw data (outputs are in Google Drive)"
   ]
  },
  {
   "cell_type": "code",
   "execution_count": null,
   "metadata": {},
   "outputs": [],
   "source": [
    "# Remove raw data to free space (optional)\n",
    "# Uncomment if you want to clean up:\n",
    "# !rm -rf /content/data/raw\n",
    "# !rm -rf /content/data/tiles\n",
    "# print(\"✓ Cleaned up temporary files\")"
   ]
  },
  {
   "cell_type": "markdown",
   "metadata": {},
   "source": [
    "## Done! 🎉\n",
    "\n",
    "Your Stage 1 outputs are now in Google Drive:\n",
    "`MyDrive/Axion-Sat-Outputs/stage1_precompute/`\n",
    "\n",
    "### Next Steps:\n",
    "1. Download outputs to your local D: drive\n",
    "2. Run Stage 2 training (can also do on Colab!)\n",
    "3. Evaluate your GAC model"
   ]
  }
 ],
 "metadata": {
  "kernelspec": {
   "display_name": "Python 3",
   "language": "python",
   "name": "python3"
  },
  "language_info": {
   "name": "python",
   "version": "3.10.0"
  },
  "accelerator": "GPU",
  "colab": {
   "provenance": [],
   "gpuType": "T4"
  }
 },
 "nbformat": 4,
 "nbformat_minor": 4
}
