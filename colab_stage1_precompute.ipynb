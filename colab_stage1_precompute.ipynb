{
 "cells": [
  {
   "cell_type": "markdown",
   "metadata": {},
   "source": [
    "# Axion-Sat Stage 1 Precompute (Colab)\n",
    "\n",
    "This notebook runs Stage 1 precompute on Google Colab with your data from Google Drive.\n",
    "\n",
    "**Estimated time:** ~15-18 hours on T4 GPU (free tier)\n",
    "\n",
    "**Setup:**\n",
    "1. Upload your `data/tiles/benv2_catalog` folder to Google Drive\n",
    "2. Run all cells below\n",
    "3. Download outputs from Google Drive when done"
   ]
  },
  {
   "cell_type": "markdown",
   "metadata": {},
   "source": [
    "## 1. Mount Google Drive"
   ]
  },
  {
   "cell_type": "code",
   "execution_count": null,
   "metadata": {},
   "outputs": [],
   "source": [
    "from google.colab import drive\n",
    "drive.mount('/content/drive')"
   ]
  },
  {
   "cell_type": "markdown",
   "metadata": {},
   "source": [
    "## 2. Check GPU"
   ]
  },
  {
   "cell_type": "code",
   "execution_count": null,
   "metadata": {},
   "outputs": [],
   "source": [
    "!nvidia-smi"
   ]
  },
  {
   "cell_type": "markdown",
   "metadata": {},
   "source": [
    "## 3. Clone Repository"
   ]
  },
  {
   "cell_type": "code",
   "execution_count": null,
   "metadata": {},
   "outputs": [],
   "source": [
    "!git clone https://github.com/yourusername/Axion-Sat.git /content/Axion-Sat\n",
    "%cd /content/Axion-Sat"
   ]
  },
  {
   "cell_type": "markdown",
   "metadata": {},
   "source": [
    "## 4. Install Dependencies"
   ]
  },
  {
   "cell_type": "code",
   "execution_count": null,
   "metadata": {},
   "outputs": [],
   "source": [
    "!pip install -q torch torchvision torchaudio --index-url https://download.pytorch.org/whl/cu118\n",
    "!pip install -q terratorch albumentations tqdm numpy pillow scipy timm transformers diffusers"
   ]
  },
  {
   "cell_type": "markdown",
   "metadata": {},
   "source": [
    "## 5. Set up Data Paths\n",
    "\n",
    "**IMPORTANT:** Update these paths to match where you uploaded your data in Google Drive"
   ]
  },
  {
   "cell_type": "code",
   "execution_count": null,
   "metadata": {},
   "outputs": [],
   "source": [
    "# Update these paths!\n",
    "DATA_DIR = '/content/drive/MyDrive/Axion-Sat-Data/tiles/benv2_catalog'\n",
    "OUTPUT_DIR = '/content/drive/MyDrive/Axion-Sat-Data/stage1_outputs'\n",
    "\n",
    "# Check if data exists\n",
    "import os\n",
    "if os.path.exists(DATA_DIR):\n",
    "    print(f\"✓ Found data at {DATA_DIR}\")\n",
    "    !ls -lh \"{DATA_DIR}\" | head -20\n",
    "else:\n",
    "    print(f\"❌ Data not found at {DATA_DIR}\")\n",
    "    print(f\"   Please upload your tiles to Google Drive first!\")"
   ]
  },
  {
   "cell_type": "markdown",
   "metadata": {},
   "source": [
    "## 6. Copy Precompute Script"
   ]
  },
  {
   "cell_type": "code",
   "execution_count": null,
   "metadata": {},
   "outputs": [],
   "source": [
    "%%writefile /content/Axion-Sat/scripts/00_precompute_stage1_fast.py\n",
    "# Your precompute script will be written here\n",
    "# (The full script from your local version)"
   ]
  },
  {
   "cell_type": "markdown",
   "metadata": {},
   "source": [
    "## 7. Run Stage 1 Precompute\n",
    "\n",
    "This will take ~15-18 hours on T4 GPU (free tier)"
   ]
  },
  {
   "cell_type": "code",
   "execution_count": null,
   "metadata": {},
   "outputs": [],
   "source": [
    "!python /content/Axion-Sat/scripts/00_precompute_stage1_fast.py \\\n",
    "    --data-dir \"{DATA_DIR}\" \\\n",
    "    --output-dir \"{OUTPUT_DIR}\" \\\n",
    "    --batch-size 64 \\\n",
    "    --timesteps 3 \\\n",
    "    --device cuda"
   ]
  },
  {
   "cell_type": "markdown",
   "metadata": {},
   "source": [
    "## 8. Verify Outputs"
   ]
  },
  {
   "cell_type": "code",
   "execution_count": null,
   "metadata": {},
   "outputs": [],
   "source": [
    "import os\n",
    "output_files = [f for f in os.listdir(OUTPUT_DIR) if f.endswith('.npz')]\n",
    "print(f\"✓ Generated {len(output_files)} output files\")\n",
    "print(f\"  Outputs saved to: {OUTPUT_DIR}\")\n",
    "print(f\"\\nFirst 10 files:\")\n",
    "for f in output_files[:10]:\n",
    "    print(f\"  - {f}\")"
   ]
  },
  {
   "cell_type": "markdown",
   "metadata": {},
   "source": [
    "## 9. Done!\n",
    "\n",
    "Your precomputed Stage 1 outputs are saved in Google Drive.\n",
    "\n",
    "Next steps:\n",
    "1. Download outputs from Google Drive to your local D: drive\n",
    "2. Run Stage 2 training locally (or on Colab with another notebook)"
   ]
  }
 ],
 "metadata": {
  "kernelspec": {
   "display_name": "Python 3",
   "language": "python",
   "name": "python3"
  },
  "language_info": {
   "name": "python",
   "version": "3.10.0"
  },
  "accelerator": "GPU"
 },
 "nbformat": 4,
 "nbformat_minor": 4
}
